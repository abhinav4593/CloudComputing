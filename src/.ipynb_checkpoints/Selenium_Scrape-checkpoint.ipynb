{
 "cells": [
  {
   "cell_type": "code",
   "execution_count": 1,
   "metadata": {
    "collapsed": false
   },
   "outputs": [],
   "source": [
    "#import modules \n",
    "import platform\n",
    "from bs4 import BeautifulSoup\n",
    "from selenium import webdriver\n",
    "import xlrd\n",
    "import xlwt\n",
    "from xlutils.copy import copy"
   ]
  },
  {
   "cell_type": "code",
   "execution_count": 2,
   "metadata": {
    "collapsed": true
   },
   "outputs": [],
   "source": [
    "#check for the type \n",
    "if platform.system() == 'Windows':\n",
    "    PHANTOMJS_PATH = 'D:\\\\ProgramFiles\\\\phantomjs-2.1.1-windows\\\\bin\\\\phantomjs.exe'\n",
    "else:\n",
    "    PHANTOMJS_PATH = 'D:\\\\ProgramFiles\\\\phantomjs-2.1.1-windows\\\\bin\\\\phantomjs.exe'"
   ]
  },
  {
   "cell_type": "code",
   "execution_count": 25,
   "metadata": {
    "collapsed": false
   },
   "outputs": [],
   "source": [
    "browser = webdriver.PhantomJS(PHANTOMJS_PATH)\n",
    "browser.get('http://www.cnet.com/products/apple-mac-mini-2014/user-reviews/')"
   ]
  },
  {
   "cell_type": "code",
   "execution_count": 26,
   "metadata": {
    "collapsed": false
   },
   "outputs": [
    {
     "name": "stdout",
     "output_type": "stream",
     "text": [
      "Apple Mac Mini (2014)\n",
      "--------\n",
      "MGEM2LL/A\n",
      "--------\n"
     ]
    }
   ],
   "source": [
    "# let's parse our html\n",
    "soup = BeautifulSoup(browser.page_source, \"lxml\")\n",
    "prducttxt=soup.find(\"div\",{\"id\":\"modelInfo\"})\n",
    "prdct= prducttxt.prettify()\n",
    "pname=prducttxt.h3.string\n",
    "pNumber=prducttxt.find(\"span\" , \"partNumber\").string\n",
    "productNumber= pNumber[13:]\n",
    "print pname\n",
    "print \"--------\"\n",
    "print productNumber\n",
    "print \"--------\""
   ]
  },
  {
   "cell_type": "code",
   "execution_count": 28,
   "metadata": {
    "collapsed": false
   },
   "outputs": [],
   "source": [
    "article_List=soup.findAll('article',{\"class\":\"fyre-comment-article fyre-comment-source-0\"})\n",
    "for article in article_List:\n",
    "    ContentPros=\"\"\n",
    "    ContentCons=\"\"\n",
    "    ContentSummary=\"\"\n",
    "    UserRating=\"\"\n",
    "    headerTxt=article.h3\n",
    "    articleHeader=headerTxt.text\n",
    "    articleCommentsTxt=article.find(\"div\",{\"class\":\"fyre-comment\"})\n",
    "    commentsPList=articleCommentsTxt.findAll(\"p\")\n",
    "    i=0\n",
    "    s=0\n",
    "    RatingText=article.find(\"div\",{\"class\":\"fyre-reviews-rating-wrapper\"})\n",
    "    RatingLableVal=RatingText.find(\"label\")\n",
    "    RatingStyle=RatingLableVal['style'][7:-1]\n",
    "    UserRating=str(float(RatingStyle)/20)\n",
    "    #print UserRating\n",
    "    for comments in commentsPList:\n",
    "        i=i+1\n",
    "        #print i\n",
    "        #comments.text\n",
    "        if comments.has_attr('class'):\n",
    "            strongTag=comments.find(\"strong\").text\n",
    "            if strongTag.lower()=='Pros'.lower():\n",
    "                ContentPros=comments.text[4:]\n",
    "            if strongTag.lower()=='Cons'.lower():\n",
    "                ContentCons=comments.text[4:]\n",
    "        #print comments.find(\"strong\")\n",
    "        if(comments.find(\"strong\")):\n",
    "            sTag=comments.find(\"strong\").text\n",
    "            if sTag.lower()==\"Summary\".lower():\n",
    "                s=1\n",
    "                ContentSummary=comments.text[7:]\n",
    "        if s==1:\n",
    "            ContentSummary=ContentSummary + comments.text+\"\\n\"\n",
    "        #print \"**********\"\n",
    "    #print UserRating\n",
    "    #print ContentPros\n",
    "    #print ContentCons\n",
    "    #print ContentSummary\n",
    "    rb = xlrd.open_workbook('E:\\\\IA_Work\\\\webscraping\\\\output\\\\CnetUserReviews.xls')\n",
    "    r_sheet = rb.sheet_by_index(0) \n",
    "    r = r_sheet.nrows\n",
    "    wb = copy(rb) \n",
    "    sheet = wb.get_sheet(0) \n",
    "    sheet.write(r,0,pname)\n",
    "    sheet.write(r,1,productNumber)\n",
    "    sheet.write(r,2,articleHeader)\n",
    "    sheet.write(r,3,UserRating)\n",
    "    sheet.write(r,4,ContentPros)\n",
    "    sheet.write(r,5,ContentCons)\n",
    "    sheet.write(r,6,ContentSummary)\n",
    "    wb.save('E:\\\\IA_Work\\\\webscraping\\\\output\\\\CnetUserReviews.xls')\n",
    "    #print \"--------------------------------------------------------------------------------------------------------------------------\"\n",
    "    "
   ]
  }
 ],
 "metadata": {
  "kernelspec": {
   "display_name": "Python 2",
   "language": "python",
   "name": "python2"
  },
  "language_info": {
   "codemirror_mode": {
    "name": "ipython",
    "version": 2
   },
   "file_extension": ".py",
   "mimetype": "text/x-python",
   "name": "python",
   "nbconvert_exporter": "python",
   "pygments_lexer": "ipython2",
   "version": "2.7.12"
  }
 },
 "nbformat": 4,
 "nbformat_minor": 0
}
