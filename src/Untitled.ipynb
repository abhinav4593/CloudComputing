{
 "cells": [
  {
   "cell_type": "code",
   "execution_count": 17,
   "metadata": {
    "collapsed": true
   },
   "outputs": [],
   "source": [
    "import platform\n",
    "from bs4 import BeautifulSoup\n",
    "from selenium import webdriver\n",
    "import xlrd\n",
    "import xlwt\n",
    "from xlutils.copy import copy"
   ]
  },
  {
   "cell_type": "code",
   "execution_count": 18,
   "metadata": {
    "collapsed": true
   },
   "outputs": [],
   "source": [
    "if platform.system() == 'Windows':\n",
    "    PHANTOMJS_PATH = 'D:\\\\ProgramFiles\\\\phantomjs-2.1.1-windows\\\\bin\\\\phantomjs.exe'\n",
    "else:\n",
    "    PHANTOMJS_PATH = 'D:\\\\ProgramFiles\\\\phantomjs-2.1.1-windows\\\\bin\\\\phantomjs.exe'"
   ]
  },
  {
   "cell_type": "code",
   "execution_count": 19,
   "metadata": {
    "collapsed": true
   },
   "outputs": [],
   "source": [
    "browser = webdriver.PhantomJS(PHANTOMJS_PATH)\n",
    "browser.get('https://www.cnet.com/topics/laptops/products/')\n",
    "soup = BeautifulSoup(browser.page_source, \"lxml\")\n"
   ]
  },
  {
   "cell_type": "code",
   "execution_count": 23,
   "metadata": {
    "collapsed": false
   },
   "outputs": [
    {
     "data": {
      "text/plain": [
       "<div class=\"item i1 b1x1 type-content-deal \" data-tracking=\"cc36ae2d-c223-4a2e-95f3-b3102b63cd89\" section=\"pos1|1x1\">\\n<a class=\"mainLink\" data-component=\"leadsTracker\" href=\"//dw.cbsi.com/redir?assetguid=cc36ae2d-c223-4a2e-95f3-b3102b63cd89&amp;contype=deal&amp;destUrl=http%3A%2F%2Fdealnews.com%2Flw%2Fclick.html%3F20%2C2%2C1836713%2Ceref%3Dcnet-deals-search&amp;devicetype=desktop&amp;ltype=mlst&amp;merid=15001208&amp;mfgid=6274490&amp;pdguid=39aabdf6-c176-4c1f-8385-5ca7b1ff08db&amp;sc=us&amp;siteid=1&amp;sl=en&amp;topicbrcrm=Computers%5ELaptops&amp;rsid=cbsicnetglobalsite&amp;ttag=dealnews&amp;ontid=5&amp;topicguid=1c445348-c387-11e2-8208-0291187b029a\" target=\"_blank\" title='Open-Box Lenovo Broadwell i3 16\" Touch Laptop for $306 + free shipping'></a>\\n<figure class=\" img\"><span><img alt=\"\" class=\"lazy \" data-original=\"        https://cnet1.cbsistatic.com/img/2w0AlcH8OD2ti3EKdSLpRMioS0M=/300x250/2016/11/18/484227a0-5da3-473e-b8fa-f6f850233860/kxds3xrc4bett9fnqqbo.jpg\" height=\"250\" src=\"\" width=\"300.01\"/></span><noscript>&lt;span&gt;&lt;img src=\"https://cnet1.cbsistatic.com/img/2w0AlcH8OD2ti3EKdSLpRMioS0M=/300x250/2016/11/18/484227a0-5da3-473e-b8fa-f6f850233860/kxds3xrc4bett9fnqqbo.jpg\" class=\"\" alt=\"\" height=\"250\" width=\"300.01\"&gt;&lt;/span&gt;</noscript></figure><div class=\"meta\"><span class=\"deal-salePrice\">$306.00</span></div>\\n<div class=\"content\" data-component=\"livefyreCommentcount\">\\n<h3>Open-Box Lenovo Broadwell i3 16\" Touch Laptop $306</h3>\\n<div class=\"author\">\\n</div>\\n</div>\\n</div>"
      ]
     },
     "execution_count": 23,
     "metadata": {},
     "output_type": "execute_result"
    }
   ],
   "source": [
    "mydiv = soup.find(\"div\", { \"class\" : \"item\" })\n",
    "mydiv"
   ]
  },
  {
   "cell_type": "code",
   "execution_count": 22,
   "metadata": {
    "collapsed": false
   },
   "outputs": [
    {
     "ename": "AttributeError",
     "evalue": "'ResultSet' object has no attribute 'prettify'",
     "output_type": "error",
     "traceback": [
      "\u001b[0;31m---------------------------------------------------------------------------\u001b[0m",
      "\u001b[0;31mAttributeError\u001b[0m                            Traceback (most recent call last)",
      "\u001b[0;32m<ipython-input-22-6323f62e22b9>\u001b[0m in \u001b[0;36m<module>\u001b[0;34m()\u001b[0m\n\u001b[0;32m----> 1\u001b[0;31m \u001b[0mprdct\u001b[0m\u001b[1;33m=\u001b[0m \u001b[0mmydiv\u001b[0m\u001b[1;33m.\u001b[0m\u001b[0mprettify\u001b[0m\u001b[1;33m(\u001b[0m\u001b[1;33m)\u001b[0m\u001b[1;33m\u001b[0m\u001b[0m\n\u001b[0m",
      "\u001b[0;31mAttributeError\u001b[0m: 'ResultSet' object has no attribute 'prettify'"
     ]
    }
   ],
   "source": [
    "prdct= mydiv.prettify()"
   ]
  },
  {
   "cell_type": "code",
   "execution_count": 15,
   "metadata": {
    "collapsed": false
   },
   "outputs": [
    {
     "name": "stdout",
     "output_type": "stream",
     "text": [
      "[]\n",
      "[]\n",
      "[]\n",
      "[]\n",
      "[]\n",
      "[]\n",
      "[]\n",
      "[]\n",
      "[]\n",
      "[]\n",
      "[]\n",
      "[]\n"
     ]
    }
   ],
   "source": [
    "\n",
    "for element in mydiv:\n",
    "    a = element.find_all(\"section\", { \"class\" : \"col-3 searchItem product\" })"
   ]
  }
 ],
 "metadata": {
  "kernelspec": {
   "display_name": "Python 2",
   "language": "python",
   "name": "python2"
  },
  "language_info": {
   "codemirror_mode": {
    "name": "ipython",
    "version": 2
   },
   "file_extension": ".py",
   "mimetype": "text/x-python",
   "name": "python",
   "nbconvert_exporter": "python",
   "pygments_lexer": "ipython2",
   "version": "2.7.12"
  }
 },
 "nbformat": 4,
 "nbformat_minor": 0
}
